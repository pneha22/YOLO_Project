{
  "metadata": {
    "kernelspec": {
      "language": "python",
      "display_name": "Python 3",
      "name": "python3"
    },
    "language_info": {
      "pygments_lexer": "ipython3",
      "nbconvert_exporter": "python",
      "version": "3.6.4",
      "file_extension": ".py",
      "codemirror_mode": {
        "name": "ipython",
        "version": 3
      },
      "name": "python",
      "mimetype": "text/x-python"
    },
    "colab": {
      "provenance": []
    }
  },
  "nbformat_minor": 0,
  "nbformat": 4,
  "cells": [
    {
      "cell_type": "markdown",
      "source": [
        ".csv files link: https://drive.google.com/drive/folders/1_61paubLpjXutt7jyuvjyjRapAdz8mH9?usp=sharing\n",
        "\n",
        "Submission link: https://forms.gle/UU4MuksSZqgNYeXK7\n",
        "\n",
        "Form closes at: 8:00PM, June 2nd 2023. You may continue to edit the assignment until 11:59PM, June 4th 2023.\n"
      ],
      "metadata": {
        "id": "g63cwkrkbw83"
      }
    },
    {
      "cell_type": "markdown",
      "source": [
        "# 1. Introduction\n"
      ],
      "metadata": {
        "id": "3k1Txf1vp1nV"
      }
    },
    {
      "cell_type": "markdown",
      "source": [
        "**Import all Necessary Libraries**"
      ],
      "metadata": {
        "_uuid": "7ed04b1e7a00a7ad31ee98a7d8e55880e6274f29",
        "id": "NIyoa1bYp1nW"
      }
    },
    {
      "cell_type": "code",
      "source": [
        "import pandas as pd\n",
        "import numpy as np\n",
        "\n",
        "import matplotlib.pyplot as plt\n",
        "import seaborn as sns\n",
        "\n",
        "from sklearn.model_selection import train_test_split\n",
        "from sklearn.metrics import confusion_matrix\n",
        "\n",
        "import keras\n",
        "from keras.models import Sequential\n",
        "from keras.layers import Conv2D, Lambda, MaxPooling2D # convolution layers\n",
        "from keras.layers import Dense, Dropout, Flatten # core layers\n",
        "from tensorflow.keras.layers import BatchNormalization\n",
        "from keras.preprocessing.image import ImageDataGenerator\n",
        "\n",
        "from keras.utils.np_utils import to_categorical\n",
        "\n"
      ],
      "metadata": {
        "_uuid": "0f935bddcc5ca02702578e712bf7f396ba7154ef",
        "execution": {
          "iopub.status.busy": "2023-05-30T13:35:07.139049Z",
          "iopub.execute_input": "2023-05-30T13:35:07.139351Z",
          "iopub.status.idle": "2023-05-30T13:35:09.390491Z",
          "shell.execute_reply.started": "2023-05-30T13:35:07.139296Z",
          "shell.execute_reply": "2023-05-30T13:35:09.389583Z"
        },
        "trusted": true,
        "id": "b39kNGuGp1nW"
      },
      "execution_count": null,
      "outputs": []
    },
    {
      "cell_type": "markdown",
      "source": [
        "# 2. Data preparation\n",
        "## 2.1 Load data"
      ],
      "metadata": {
        "_uuid": "f94870f1682c45b0e4ea378d287302656af3cf8e",
        "id": "g2jNt52Rp1nY"
      }
    },
    {
      "cell_type": "code",
      "source": [
        "train = pd.read_csv('train.csv')\n",
        "test = pd.read_csv('test.csv')\n",
        "sub = pd.read_csv('sample_submission.csv')"
      ],
      "metadata": {
        "execution": {
          "iopub.status.busy": "2023-05-30T13:36:27.341562Z",
          "iopub.execute_input": "2023-05-30T13:36:27.341895Z",
          "iopub.status.idle": "2023-05-30T13:36:33.751175Z",
          "shell.execute_reply.started": "2023-05-30T13:36:27.341836Z",
          "shell.execute_reply": "2023-05-30T13:36:33.750294Z"
        },
        "trusted": true,
        "id": "jAUEqeo_p1nY"
      },
      "execution_count": null,
      "outputs": []
    },
    {
      "cell_type": "code",
      "source": [
        "print(f\"Training data size is {train.shape}\\nTesting data size is {test.shape}\")"
      ],
      "metadata": {
        "execution": {
          "iopub.status.busy": "2023-05-30T13:36:37.017930Z",
          "iopub.execute_input": "2023-05-30T13:36:37.018285Z",
          "iopub.status.idle": "2023-05-30T13:36:37.024349Z",
          "shell.execute_reply.started": "2023-05-30T13:36:37.018227Z",
          "shell.execute_reply": "2023-05-30T13:36:37.023155Z"
        },
        "trusted": true,
        "colab": {
          "base_uri": "https://localhost:8080/"
        },
        "id": "O5mhCTJip1nY",
        "outputId": "80ddac70-7687-4739-f749-8d61f6bbeaf7"
      },
      "execution_count": null,
      "outputs": [
        {
          "output_type": "stream",
          "name": "stdout",
          "text": [
            "Training data size is (42000, 785)\n",
            "Testing data size is (28000, 784)\n"
          ]
        }
      ]
    },
    {
      "cell_type": "markdown",
      "source": [
        "**Set data features and labels**"
      ],
      "metadata": {
        "id": "vT3sQM35p1nY"
      }
    },
    {
      "cell_type": "code",
      "source": [
        "X = train.drop(['label'], 1).values\n",
        "y = train['label'].values"
      ],
      "metadata": {
        "execution": {
          "iopub.status.busy": "2023-05-30T13:36:39.661470Z",
          "iopub.execute_input": "2023-05-30T13:36:39.661876Z",
          "iopub.status.idle": "2023-05-30T13:36:39.853976Z",
          "shell.execute_reply.started": "2023-05-30T13:36:39.661806Z",
          "shell.execute_reply": "2023-05-30T13:36:39.852421Z"
        },
        "trusted": true,
        "colab": {
          "base_uri": "https://localhost:8080/"
        },
        "id": "LzzT0HzSp1nZ",
        "outputId": "8617ef08-16aa-4690-d9e4-7b714f6cb65f"
      },
      "execution_count": null,
      "outputs": [
        {
          "output_type": "stream",
          "name": "stderr",
          "text": [
            "<ipython-input-7-a59f6058bd32>:1: FutureWarning: In a future version of pandas all arguments of DataFrame.drop except for the argument 'labels' will be keyword-only.\n",
            "  X = train.drop(['label'], 1).values\n"
          ]
        }
      ]
    },
    {
      "cell_type": "markdown",
      "source": [
        "## 2.2 Normalization"
      ],
      "metadata": {
        "id": "wN8OzFUpp1nZ"
      }
    },
    {
      "cell_type": "markdown",
      "source": [
        "The activation values of X range from 0 to 255.\n",
        "Normalize them to have a range of 0 to 1\n",
        "\n"
      ],
      "metadata": {
        "id": "cSLENzq6p1nZ"
      }
    },
    {
      "cell_type": "code",
      "source": [
        "X = pass"
      ],
      "metadata": {
        "execution": {
          "iopub.status.busy": "2023-05-30T13:36:43.087276Z",
          "iopub.execute_input": "2023-05-30T13:36:43.087586Z",
          "iopub.status.idle": "2023-05-30T13:36:43.327014Z",
          "shell.execute_reply.started": "2023-05-30T13:36:43.087534Z",
          "shell.execute_reply": "2023-05-30T13:36:43.326084Z"
        },
        "trusted": true,
        "id": "I_ohF5YMp1na"
      },
      "execution_count": null,
      "outputs": []
    },
    {
      "cell_type": "markdown",
      "source": [
        "## 2.3 Reshape"
      ],
      "metadata": {
        "id": "BmRMh_2bp1na"
      }
    },
    {
      "cell_type": "code",
      "source": [
        "# Reshape image in 3 dimensions (height = 28px, width = 28px , canal = 1)\n",
        "# canal = 1 => For gray scale\n",
        "# desired X.shape = (42000, 28, 28, 1)\n",
        "X = pass"
      ],
      "metadata": {
        "execution": {
          "iopub.status.busy": "2023-05-30T13:36:44.643672Z",
          "iopub.execute_input": "2023-05-30T13:36:44.643985Z",
          "iopub.status.idle": "2023-05-30T13:36:44.648329Z",
          "shell.execute_reply.started": "2023-05-30T13:36:44.643928Z",
          "shell.execute_reply": "2023-05-30T13:36:44.647270Z"
        },
        "trusted": true,
        "id": "SeA3Saobp1na"
      },
      "execution_count": null,
      "outputs": []
    },
    {
      "cell_type": "markdown",
      "source": [
        "## 2.4 Label encoding"
      ],
      "metadata": {
        "id": "2EOA8NLfp1na"
      }
    },
    {
      "cell_type": "markdown",
      "source": [
        "**One-Hot Encoding**"
      ],
      "metadata": {
        "id": "gWkiXWp4p1na"
      }
    },
    {
      "cell_type": "code",
      "source": [
        "# Encode labels to one hot vectors (ex : 2 -> [0,0,1,0,0,0,0,0,0,0])\n",
        "y = pass # You should use Keras to do this\n",
        "# previous y.shape = (42000, 1)\n",
        "print(f\"Label size {y.shape}\")"
      ],
      "metadata": {
        "execution": {
          "iopub.status.busy": "2023-05-30T13:36:46.972062Z",
          "iopub.execute_input": "2023-05-30T13:36:46.972388Z",
          "iopub.status.idle": "2023-05-30T13:36:46.978845Z",
          "shell.execute_reply.started": "2023-05-30T13:36:46.972334Z",
          "shell.execute_reply": "2023-05-30T13:36:46.978045Z"
        },
        "trusted": true,
        "colab": {
          "base_uri": "https://localhost:8080/"
        },
        "id": "1zsH-tgCp1nb",
        "outputId": "ca31de46-92f2-4c95-b57a-ec5ab873f009"
      },
      "execution_count": null,
      "outputs": [
        {
          "output_type": "stream",
          "name": "stdout",
          "text": [
            "Label size (42000, 10)\n"
          ]
        }
      ]
    },
    {
      "cell_type": "markdown",
      "source": [
        "Labels are 10 digits numbers from 0 to 9. We need to encode these lables to one hot vectors (ex : 2 -> [0,0,1,0,0,0,0,0,0,0])."
      ],
      "metadata": {
        "id": "GW1ekuA8p1nb"
      }
    },
    {
      "cell_type": "markdown",
      "source": [
        "## 2.5 Split training and valdiation set"
      ],
      "metadata": {
        "id": "ZR4kfsiDp1nb"
      }
    },
    {
      "cell_type": "code",
      "source": [
        "# Split the train and the validation set for the fitting\n",
        "# Decide the val_size and read more about random_state https://stackoverflow.com/questions/28064634/random-state-pseudo-random-number-in-scikit-learn\n",
        "X_train, X_val, y_train, y_val = train_val_split(X, y, val_size=pass, random_state=0)"
      ],
      "metadata": {
        "execution": {
          "iopub.status.busy": "2023-05-30T13:36:50.039409Z",
          "iopub.execute_input": "2023-05-30T13:36:50.039730Z",
          "iopub.status.idle": "2023-05-30T13:36:50.699979Z",
          "shell.execute_reply.started": "2023-05-30T13:36:50.039673Z",
          "shell.execute_reply": "2023-05-30T13:36:50.699165Z"
        },
        "trusted": true,
        "id": "T7n4h2pDp1nb"
      },
      "execution_count": null,
      "outputs": []
    },
    {
      "cell_type": "code",
      "source": [
        "X_train.shape, X_val.shape, y_train.shape, y_val.shape # Can you explain these numbers based on the val_size that you set?"
      ],
      "metadata": {
        "execution": {
          "iopub.status.busy": "2023-05-30T13:36:51.760318Z",
          "iopub.execute_input": "2023-05-30T13:36:51.760629Z",
          "iopub.status.idle": "2023-05-30T13:36:51.768123Z",
          "shell.execute_reply.started": "2023-05-30T13:36:51.760573Z",
          "shell.execute_reply": "2023-05-30T13:36:51.767266Z"
        },
        "trusted": true,
        "colab": {
          "base_uri": "https://localhost:8080/"
        },
        "id": "6E2OBaWdp1nb",
        "outputId": "c18bf8bc-ed6d-4424-9bfb-b8847a9f17fa"
      },
      "execution_count": null,
      "outputs": [
        {
          "output_type": "execute_result",
          "data": {
            "text/plain": [
              "((37800, 28, 28, 1), (4200, 28, 28, 1), (37800, 10), (4200, 10))"
            ]
          },
          "metadata": {},
          "execution_count": 12
        }
      ]
    },
    {
      "cell_type": "markdown",
      "source": [
        "I choosed to split the train set in two parts : a small fraction (10%) became the validation set which the model is evaluated and the rest (90%) is used to train the model."
      ],
      "metadata": {
        "id": "N3mPRO2op1nc"
      }
    },
    {
      "cell_type": "markdown",
      "source": [
        "**Data Visualization**"
      ],
      "metadata": {
        "_uuid": "d9f73cd8890cc89d03837ef47210b27b94b156dc",
        "id": "5NjgI5nFp1nc"
      }
    },
    {
      "cell_type": "code",
      "source": [
        "X_train__ = X_train.reshape(X_train.shape[0], 28, 28)\n",
        "\n",
        "fig, axis = plt.subplots(1, 4, figsize=(20, 10))\n",
        "for i, ax in enumerate(axis.flat):\n",
        "    ax.imshow(X_train__[i], cmap='binary')\n",
        "    digit = y_train[i].argmax()\n",
        "    ax.set(title = f\"Real Number is {digit}\");"
      ],
      "metadata": {
        "_uuid": "d00d9b96668d11a33c272b2b64cbb4397dcbba89",
        "scrolled": true,
        "execution": {
          "iopub.status.busy": "2023-05-30T13:36:54.243937Z",
          "iopub.execute_input": "2023-05-30T13:36:54.244302Z",
          "iopub.status.idle": "2023-05-30T13:36:55.235756Z",
          "shell.execute_reply.started": "2023-05-30T13:36:54.244244Z",
          "shell.execute_reply": "2023-05-30T13:36:55.234929Z"
        },
        "trusted": true,
        "colab": {
          "base_uri": "https://localhost:8080/",
          "height": 298
        },
        "id": "_yeEL8yxp1nc",
        "outputId": "975db27a-7833-42df-8ace-2641fb1bb7a8"
      },
      "execution_count": null,
      "outputs": [
        {
          "output_type": "display_data",
          "data": {
            "text/plain": [
              "<Figure size 2000x1000 with 4 Axes>"
            ],
            "image/png": "[encoded data removed]"
          },
          "metadata": {}
        }
      ]
    },
    {
      "cell_type": "markdown",
      "source": [
        "**Normalization**"
      ],
      "metadata": {
        "_uuid": "a4f73e65842423bae7cfce945cd4dc0e367c180a",
        "id": "_MyDZGckp1nc"
      }
    },
    {
      "cell_type": "code",
      "source": [
        "mean = np.mean(X_train)\n",
        "std = np.std(X_train)\n",
        "\n",
        "def standardize(x):\n",
        "    return pass # Normalize x using mean and std"
      ],
      "metadata": {
        "_uuid": "82bddf135bfad1d3f91b52cd0cadb62e55db964b",
        "execution": {
          "iopub.status.busy": "2023-05-30T13:36:59.339191Z",
          "iopub.execute_input": "2023-05-30T13:36:59.339522Z",
          "iopub.status.idle": "2023-05-30T13:36:59.595246Z",
          "shell.execute_reply.started": "2023-05-30T13:36:59.339469Z",
          "shell.execute_reply": "2023-05-30T13:36:59.594446Z"
        },
        "trusted": true,
        "id": "ljKCdpNRp1nd"
      },
      "execution_count": null,
      "outputs": []
    },
    {
      "cell_type": "markdown",
      "source": [
        "# 3. CNN\n",
        "## 3.1 Define the model"
      ],
      "metadata": {
        "id": "hkZMrZTgp1nd"
      }
    },
    {
      "cell_type": "markdown",
      "source": [],
      "metadata": {
        "id": "p0H9fDmJp1nd"
      }
    },
    {
      "cell_type": "markdown",
      "source": [
        "**Model Definition**"
      ],
      "metadata": {
        "_uuid": "57904be2d2935cece025811c128ca6738cf86800",
        "id": "dI80Ue2xp1nd"
      }
    },
    {
      "cell_type": "code",
      "source": [
        "# Change the layers of the model\n",
        "# Add padding and strides wherever required\n",
        "\n",
        "model=Sequential()\n",
        "\n",
        "model.add(Conv2D(filters=64, kernel_size = (3,3), activation=\"relu\", input_shape=(28,28,1)))\n",
        "model.add(Conv2D(filters=64, kernel_size = (3,3), activation=\"relu\"))\n",
        "model.add(MaxPooling2D(pool_size=(2,2)))\n",
        "model.add(BatchNormalization())\n",
        "\n",
        "model.add(Conv2D(filters=128, kernel_size = (3,3), activation=\"relu\"))\n",
        "model.add(Conv2D(filters=128, kernel_size = (3,3), activation=\"relu\"))\n",
        "model.add(MaxPooling2D(pool_size=(2,2)))\n",
        "model.add(BatchNormalization())\n",
        "\n",
        "model.add(Conv2D(filters=256, kernel_size = (3,3), activation=\"relu\"))\n",
        "model.add(MaxPooling2D(pool_size=(2,2)))\n",
        "model.add(BatchNormalization())\n",
        "\n",
        "model.add(Flatten())\n",
        "model.add(Dense(512,activation=\"relu\"))\n",
        "\n",
        "model.add(Dense(10,activation=\"softmax\"))\n",
        "\n",
        "model.compile(loss=\"categorical_crossentropy\", optimizer=\"adam\", metrics=[\"accuracy\"])"
      ],
      "metadata": {
        "_uuid": "e935c979b0715a68bc8739e6a31f5d9a8189a750",
        "execution": {
          "iopub.status.busy": "2023-05-30T13:37:03.545614Z",
          "iopub.execute_input": "2023-05-30T13:37:03.545937Z",
          "iopub.status.idle": "2023-05-30T13:37:05.671867Z",
          "shell.execute_reply.started": "2023-05-30T13:37:03.545879Z",
          "shell.execute_reply": "2023-05-30T13:37:05.671134Z"
        },
        "trusted": true,
        "id": "eFoBK3uGp1nd"
      },
      "execution_count": null,
      "outputs": []
    },
    {
      "cell_type": "code",
      "source": [
        "model.summary()"
      ],
      "metadata": {
        "execution": {
          "iopub.status.busy": "2023-05-30T13:37:06.398974Z",
          "iopub.execute_input": "2023-05-30T13:37:06.399326Z",
          "iopub.status.idle": "2023-05-30T13:37:06.412585Z",
          "shell.execute_reply.started": "2023-05-30T13:37:06.399271Z",
          "shell.execute_reply": "2023-05-30T13:37:06.411233Z"
        },
        "trusted": true,
        "colab": {
          "base_uri": "https://localhost:8080/"
        },
        "id": "1fPtpp92p1ne",
        "outputId": "db8e9016-f510-4cbf-9589-ed5b966f4014"
      },
      "execution_count": null,
      "outputs": [
        {
          "output_type": "stream",
          "name": "stdout",
          "text": [
            "Model: \"sequential\"\n",
            "_________________________________________________________________\n",
            " Layer (type)                Output Shape              Param #   \n",
            "=================================================================\n",
            " conv2d (Conv2D)             (None, 26, 26, 64)        640       \n",
            "                                                                 \n",
            " conv2d_1 (Conv2D)           (None, 24, 24, 64)        36928     \n",
            "                                                                 \n",
            " max_pooling2d (MaxPooling2D  (None, 12, 12, 64)       0         \n",
            " )                                                               \n",
            "                                                                 \n",
            " batch_normalization (BatchN  (None, 12, 12, 64)       256       \n",
            " ormalization)                                                   \n",
            "                                                                 \n",
            " conv2d_2 (Conv2D)           (None, 10, 10, 128)       73856     \n",
            "                                                                 \n",
            " conv2d_3 (Conv2D)           (None, 8, 8, 128)         147584    \n",
            "                                                                 \n",
            " max_pooling2d_1 (MaxPooling  (None, 4, 4, 128)        0         \n",
            " 2D)                                                             \n",
            "                                                                 \n",
            " batch_normalization_1 (Batc  (None, 4, 4, 128)        512       \n",
            " hNormalization)                                                 \n",
            "                                                                 \n",
            " conv2d_4 (Conv2D)           (None, 2, 2, 256)         295168    \n",
            "                                                                 \n",
            " max_pooling2d_2 (MaxPooling  (None, 1, 1, 256)        0         \n",
            " 2D)                                                             \n",
            "                                                                 \n",
            " batch_normalization_2 (Batc  (None, 1, 1, 256)        1024      \n",
            " hNormalization)                                                 \n",
            "                                                                 \n",
            " flatten (Flatten)           (None, 256)               0         \n",
            "                                                                 \n",
            " dense (Dense)               (None, 512)               131584    \n",
            "                                                                 \n",
            " dense_1 (Dense)             (None, 10)                5130      \n",
            "                                                                 \n",
            "=================================================================\n",
            "Total params: 692,682\n",
            "Trainable params: 691,786\n",
            "Non-trainable params: 896\n",
            "_________________________________________________________________\n"
          ]
        }
      ]
    },
    {
      "cell_type": "markdown",
      "source": [
        "## 3.3 Model training"
      ],
      "metadata": {
        "_uuid": "5a9a1f37ef33b24887f97e7992b7d24567602eb8",
        "id": "FY_R4fpXp1nf"
      }
    },
    {
      "cell_type": "code",
      "source": [
        "model.fit(X, y, batch_size=128, validation_split=0.2, epochs=10) # Change the batch_size and epochs\n",
        "# Number of images in X = 42000\n",
        "# Validation split = 20%, so the number of images undergoing training = 80% * 42000 = 33600 = 263 * 128"
      ],
      "metadata": {
        "execution": {
          "iopub.status.busy": "2023-05-30T13:37:45.843235Z",
          "iopub.execute_input": "2023-05-30T13:37:45.843554Z",
          "iopub.status.idle": "2023-05-30T13:38:29.115977Z",
          "shell.execute_reply.started": "2023-05-30T13:37:45.843496Z",
          "shell.execute_reply": "2023-05-30T13:38:29.115291Z"
        },
        "trusted": true,
        "colab": {
          "base_uri": "https://localhost:8080/"
        },
        "id": "cCT1Sbqrp1nf",
        "outputId": "bbaaff0f-476b-4092-d159-272cfed0ff91"
      },
      "execution_count": null,
      "outputs": [
        {
          "output_type": "stream",
          "name": "stdout",
          "text": [
            "Epoch 1/10\n",
            "263/263 [==============================] - 308s 1s/step - loss: 0.1069 - accuracy: 0.9668 - val_loss: 5.5007 - val_accuracy: 0.1151\n",
            "Epoch 2/10\n",
            "263/263 [==============================] - 279s 1s/step - loss: 0.0379 - accuracy: 0.9886 - val_loss: 0.1099 - val_accuracy: 0.9644\n",
            "Epoch 3/10\n",
            "263/263 [==============================] - 267s 1s/step - loss: 0.0256 - accuracy: 0.9915 - val_loss: 0.0530 - val_accuracy: 0.9862\n",
            "Epoch 4/10\n",
            "263/263 [==============================] - 266s 1s/step - loss: 0.0217 - accuracy: 0.9929 - val_loss: 0.0361 - val_accuracy: 0.9904\n",
            "Epoch 5/10\n",
            "263/263 [==============================] - 259s 987ms/step - loss: 0.0170 - accuracy: 0.9939 - val_loss: 0.0485 - val_accuracy: 0.9881\n",
            "Epoch 6/10\n",
            "263/263 [==============================] - 264s 1s/step - loss: 0.0123 - accuracy: 0.9959 - val_loss: 0.0426 - val_accuracy: 0.9902\n",
            "Epoch 7/10\n",
            "263/263 [==============================] - 264s 1s/step - loss: 0.0136 - accuracy: 0.9956 - val_loss: 0.0539 - val_accuracy: 0.9889\n",
            "Epoch 8/10\n",
            "263/263 [==============================] - 257s 976ms/step - loss: 0.0114 - accuracy: 0.9959 - val_loss: 0.0474 - val_accuracy: 0.9902\n",
            "Epoch 9/10\n",
            "263/263 [==============================] - 270s 1s/step - loss: 0.0082 - accuracy: 0.9969 - val_loss: 0.0398 - val_accuracy: 0.9923\n",
            "Epoch 10/10\n",
            "263/263 [==============================] - 265s 1s/step - loss: 0.0122 - accuracy: 0.9960 - val_loss: 0.0581 - val_accuracy: 0.9874\n"
          ]
        },
        {
          "output_type": "execute_result",
          "data": {
            "text/plain": [
              "<keras.callbacks.History at 0x7f7b12b73c70>"
            ]
          },
          "metadata": {},
          "execution_count": 17
        }
      ]
    },
    {
      "cell_type": "markdown",
      "source": [
        "## 4.2 Confusion matrix"
      ],
      "metadata": {
        "id": "487sAxmxp1ns"
      }
    },
    {
      "cell_type": "code",
      "source": [
        "fig = plt.figure(figsize=(10, 10)) # Set Figure\n",
        "\n",
        "y_pred = model.predict(X_test) # Predict class probabilities as 2 => [0.1, 0, 0.9, 0, 0, 0, 0, 0, 0, 0]\n",
        "\n",
        "Y_pred = np.argmax(y_pred, 1) # Decode Predicted labels\n",
        "Y_test = np.argmax(y_test, 1) # Decode labels\n",
        "\n",
        "mat = confusion_matrix(Y_test, Y_pred) # Confusion matrix\n",
        "\n",
        "# Plot Confusion matrix\n",
        "sns.heatmap(mat.T, square=True, annot=True, cbar=False, cmap=plt.cm.Blues, fmt='.0f')\n",
        "plt.xlabel('Predicted Values')\n",
        "plt.ylabel('True Values');\n",
        "plt.show();"
      ],
      "metadata": {
        "execution": {
          "iopub.status.busy": "2023-05-30T13:40:11.698887Z",
          "iopub.execute_input": "2023-05-30T13:40:11.699266Z",
          "iopub.status.idle": "2023-05-30T13:40:12.734065Z",
          "shell.execute_reply.started": "2023-05-30T13:40:11.699203Z",
          "shell.execute_reply": "2023-05-30T13:40:12.733311Z"
        },
        "trusted": true,
        "id": "xjjyQgq7p1ns"
      },
      "execution_count": null,
      "outputs": []
    },
    {
      "cell_type": "markdown",
      "source": [
        "# 5. Prediction and submission\n",
        "\n",
        "\n"
      ],
      "metadata": {
        "id": "CB3OhcGhp1nt"
      }
    },
    {
      "cell_type": "markdown",
      "source": [
        "## 5.1 Prediction validation results"
      ],
      "metadata": {
        "id": "YY4ZwwcAp1nt"
      }
    },
    {
      "cell_type": "code",
      "source": [
        "y_pred = model.predict(X_val)\n",
        "X_val__ = X_val.reshape(X_val.shape[0], 28, 28)\n",
        "\n",
        "fig, axis = plt.subplots(4, 4, figsize=(12, 14))\n",
        "for i, ax in enumerate(axis.flat):\n",
        "    ax.imshow(X_val__[i], cmap='binary')\n",
        "    ax.set(title = f\"Real Number is {y_val[i].argmax()}\\nPredict Number is {y_pred[i].argmax()}\");"
      ],
      "metadata": {
        "execution": {
          "iopub.status.busy": "2023-05-30T13:40:17.596620Z",
          "iopub.execute_input": "2023-05-30T13:40:17.596966Z",
          "iopub.status.idle": "2023-05-30T13:40:20.645239Z",
          "shell.execute_reply.started": "2023-05-30T13:40:17.596905Z",
          "shell.execute_reply": "2023-05-30T13:40:20.644132Z"
        },
        "trusted": true,
        "id": "ph8MbAPXp1nt"
      },
      "execution_count": null,
      "outputs": []
    },
    {
      "cell_type": "markdown",
      "source": [
        "## 5.2 Submission"
      ],
      "metadata": {
        "id": "eLJZsp2Xp1nt"
      }
    },
    {
      "cell_type": "code",
      "source": [
        "# preprocess test data\n",
        "test_x = test.values\n",
        "test_x = pass # Normalize the activation values from [0,255] to [0,1]\n",
        "test_x = pass # Reshape the test data from 3 RGB channels to a single grayscale channel\n",
        "\n",
        "# predict test data\n",
        "pred = model.predict_classes(test_x, verbose=1)"
      ],
      "metadata": {
        "_uuid": "afcacfa4a023a9e01a61b5d7dcd051f0a439fa38",
        "execution": {
          "iopub.status.busy": "2023-05-30T13:40:24.562230Z",
          "iopub.execute_input": "2023-05-30T13:40:24.562570Z",
          "iopub.status.idle": "2023-05-30T13:40:26.270899Z",
          "shell.execute_reply.started": "2023-05-30T13:40:24.562508Z",
          "shell.execute_reply": "2023-05-30T13:40:26.270114Z"
        },
        "trusted": true,
        "id": "_Z2msJpfp1nu"
      },
      "execution_count": null,
      "outputs": []
    },
    {
      "cell_type": "code",
      "source": [
        "# submissions\n",
        "sub['Label'] = pred\n",
        "sub.to_csv(\"CNN_keras_sub.csv\", index=False)\n",
        "sub.head()"
      ],
      "metadata": {
        "execution": {
          "iopub.status.busy": "2023-05-30T13:40:29.474277Z",
          "iopub.execute_input": "2023-05-30T13:40:29.474616Z",
          "iopub.status.idle": "2023-05-30T13:40:29.785340Z",
          "shell.execute_reply.started": "2023-05-30T13:40:29.474556Z",
          "shell.execute_reply": "2023-05-30T13:40:29.783507Z"
        },
        "trusted": true,
        "id": "01if6yhqp1nu"
      },
      "execution_count": null,
      "outputs": []
    }
  ]
}